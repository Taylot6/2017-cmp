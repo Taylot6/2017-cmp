{
 "cells": [
  {
   "cell_type": "code",
   "execution_count": 3,
   "metadata": {},
   "outputs": [],
   "source": [
    "#Trevor Taylor\n",
    "\n",
    "#First we must import a dataset\n",
    "#The data set I used is one for evaluating a car based on \n",
    "#buying price, maintence price, number of doors, number of seats, size of luggage boot, and its safety\n",
    "#The ratings of the car are unacceptable, acceptable, good, verygood\n",
    "\n",
    "import pandas as pd\n",
    "import numpy as np\n",
    "test_inputs = pd.read_csv('http://archive.ics.uci.edu/ml/machine-learning-databases/car/car.data', delimiter=',')\n",
    "test_inputs = np.asarray(test_inputs)"
   ]
  },
  {
   "cell_type": "code",
   "execution_count": 25,
   "metadata": {},
   "outputs": [],
   "source": [
    "#There are some future warnings when running this code so to keep the data clean we use\n",
    "\n",
    "import warnings\n",
    "warnings.filterwarnings('ignore')"
   ]
  },
  {
   "cell_type": "code",
   "execution_count": 4,
   "metadata": {},
   "outputs": [
    {
     "data": {
      "text/plain": [
       "array([['vhigh', 'vhigh', '2', ..., 'small', 'med', 'unacc'],\n",
       "       ['vhigh', 'vhigh', '2', ..., 'small', 'high', 'unacc'],\n",
       "       ['vhigh', 'vhigh', '2', ..., 'med', 'low', 'unacc'],\n",
       "       ...,\n",
       "       ['low', 'low', '5more', ..., 'big', 'low', 'unacc'],\n",
       "       ['low', 'low', '5more', ..., 'big', 'med', 'good'],\n",
       "       ['low', 'low', '5more', ..., 'big', 'high', 'vgood']], dtype=object)"
      ]
     },
     "execution_count": 4,
     "metadata": {},
     "output_type": "execute_result"
    }
   ],
   "source": [
    "#Here we can see the data \n",
    "#Notice how there are note many numbers \n",
    "\n",
    "test_inputs"
   ]
  },
  {
   "cell_type": "code",
   "execution_count": 5,
   "metadata": {},
   "outputs": [],
   "source": [
    "#To fix the issue of a lack of numbers we will turn each of the strings into a integer value\n",
    "\n",
    "test_inputs[test_inputs == 'vhigh'] = 4\n",
    "test_inputs[test_inputs == 'high'] = 3\n",
    "test_inputs[test_inputs == 'med'] = 2\n",
    "test_inputs[test_inputs == 'low'] = 1\n",
    "\n",
    "test_inputs[test_inputs == 'unacc'] = 1\n",
    "test_inputs[test_inputs == 'acc'] = 2\n",
    "test_inputs[test_inputs == 'good'] = 3\n",
    "test_inputs[test_inputs == 'vgood'] = 4\n",
    "\n",
    "test_inputs[test_inputs == '5more'] = 6\n",
    "test_inputs[test_inputs == 'small'] = 1\n",
    "test_inputs[test_inputs == 'med'] = 2\n",
    "test_inputs[test_inputs == 'big'] = 3\n",
    "test_inputs[test_inputs == 'more'] = 5"
   ]
  },
  {
   "cell_type": "code",
   "execution_count": 9,
   "metadata": {},
   "outputs": [
    {
     "data": {
      "text/plain": [
       "array([[4, 4, '2', ..., 1, 2, 1],\n",
       "       [4, 4, '2', ..., 1, 3, 1],\n",
       "       [4, 4, '2', ..., 2, 1, 1],\n",
       "       ...,\n",
       "       [1, 1, 6, ..., 3, 1, 1],\n",
       "       [1, 1, 6, ..., 3, 2, 3],\n",
       "       [1, 1, 6, ..., 3, 3, 4]], dtype=object)"
      ]
     },
     "execution_count": 9,
     "metadata": {},
     "output_type": "execute_result"
    }
   ],
   "source": [
    "#Running the same array again now gives us pureply numerical factors\n",
    "\n",
    "test_inputs"
   ]
  },
  {
   "cell_type": "code",
   "execution_count": 10,
   "metadata": {},
   "outputs": [],
   "source": [
    "#We now split the array into a data set and a target set\n",
    "\n",
    "X = test_inputs[:,0:6] #data \n",
    "Y = test_inputs[:,6] #target"
   ]
  },
  {
   "cell_type": "code",
   "execution_count": 11,
   "metadata": {},
   "outputs": [],
   "source": [
    "#We need to change the dtype of Y from object to int to prevent errors down the line\n",
    "\n",
    "Y=Y.astype('int')"
   ]
  },
  {
   "cell_type": "code",
   "execution_count": 12,
   "metadata": {},
   "outputs": [],
   "source": [
    "#We import modules from sklearn to be able to train and test \n",
    "\n",
    "from sklearn.model_selection import train_test_split\n",
    "\n",
    "X_train, X_test, y_train, y_test = train_test_split(X, Y)"
   ]
  },
  {
   "cell_type": "code",
   "execution_count": 13,
   "metadata": {},
   "outputs": [
    {
     "data": {
      "text/plain": [
       "1727"
      ]
     },
     "execution_count": 13,
     "metadata": {},
     "output_type": "execute_result"
    }
   ],
   "source": [
    "#Check to make sure there are no errors in splitting the total into train and test\n",
    "\n",
    "len(X)"
   ]
  },
  {
   "cell_type": "code",
   "execution_count": 14,
   "metadata": {},
   "outputs": [
    {
     "data": {
      "text/plain": [
       "1295"
      ]
     },
     "execution_count": 14,
     "metadata": {},
     "output_type": "execute_result"
    }
   ],
   "source": [
    "len(X_train)"
   ]
  },
  {
   "cell_type": "code",
   "execution_count": 15,
   "metadata": {},
   "outputs": [
    {
     "data": {
      "text/plain": [
       "432"
      ]
     },
     "execution_count": 15,
     "metadata": {},
     "output_type": "execute_result"
    }
   ],
   "source": [
    "len(X_test)"
   ]
  },
  {
   "cell_type": "code",
   "execution_count": 16,
   "metadata": {},
   "outputs": [],
   "source": [
    "#Import Kneighbors Classifier\n",
    "\n",
    "from sklearn.neighbors import KNeighborsClassifier\n",
    "estimator = KNeighborsClassifier()"
   ]
  },
  {
   "cell_type": "code",
   "execution_count": 17,
   "metadata": {},
   "outputs": [
    {
     "data": {
      "text/plain": [
       "KNeighborsClassifier(algorithm='auto', leaf_size=30, metric='minkowski',\n",
       "           metric_params=None, n_jobs=None, n_neighbors=5, p=2,\n",
       "           weights='uniform')"
      ]
     },
     "execution_count": 17,
     "metadata": {},
     "output_type": "execute_result"
    }
   ],
   "source": [
    "#Using Kneighbors classifier \n",
    "\n",
    "estimator.fit(X_train, y_train)"
   ]
  },
  {
   "cell_type": "code",
   "execution_count": 20,
   "metadata": {},
   "outputs": [
    {
     "name": "stdout",
     "output_type": "stream",
     "text": [
      "The accuracy is 93.3%\n"
     ]
    }
   ],
   "source": [
    "#We can use the estimator to see how close it is to the values we sectioned off earlier as test values\n",
    "\n",
    "y_predicted = estimator.predict(X_test)\n",
    "\n",
    "#This accuracy test is just to see how often the values were the same between both\n",
    "#The percentage was 93.3% which is quite good\n",
    "\n",
    "accuracy = np.mean(y_test == y_predicted) *100\n",
    "print(\"The accuracy is {0:.1f}%\".format(accuracy))"
   ]
  },
  {
   "cell_type": "code",
   "execution_count": 24,
   "metadata": {},
   "outputs": [
    {
     "name": "stdout",
     "output_type": "stream",
     "text": [
      "The accuracy is 82.7%\n"
     ]
    }
   ],
   "source": [
    "from sklearn.model_selection import cross_val_score\n",
    "scores = cross_val_score(estimator, X, Y, scoring = 'accuracy')\n",
    "average_accuracy = np.mean(scores)*100\n",
    "print(\"The accuracy is {0:.1f}%\".format(average_accuracy))"
   ]
  },
  {
   "cell_type": "code",
   "execution_count": 22,
   "metadata": {},
   "outputs": [],
   "source": [
    "#It is important to see how the parameters in Kneighbors changes the overall value\n",
    "#The biggest factor is the n_neighbors parameter\n",
    "\n",
    "avg_scores = []\n",
    "all_scores = []\n",
    "parameters = list(range(1,100))\n",
    "for n_neighbors in parameters:\n",
    "    estimator = KNeighborsClassifier(n_neighbors=n_neighbors)\n",
    "    scores = cross_val_score(estimator, X, Y, scoring = 'accuracy')\n",
    "    avg_scores.append(np.mean(scores))\n",
    "    all_scores.append(scores)"
   ]
  },
  {
   "cell_type": "code",
   "execution_count": 26,
   "metadata": {},
   "outputs": [
    {
     "data": {
      "image/png": "[encoded data removed]",
      "text/plain": [
       "<Figure size 432x288 with 1 Axes>"
      ]
     },
     "metadata": {
      "needs_background": "light"
     },
     "output_type": "display_data"
    }
   ],
   "source": [
    "#This is a graph of the values of accuracy for Kneighbors values from 1 to a hundred\n",
    "#Overall there is little diffrence however it does seem to slightly drop off at very small and very large values of n\n",
    "\n",
    "import matplotlib.pyplot as plt\n",
    "plt.plot(parameters, avg_scores, '-o')\n",
    "plt.xlabel('N-Neighbour')\n",
    "plt.ylabel('Accuracy')\n",
    "plt.ylim([0,1.0])\n",
    "\n",
    "plt.show()"
   ]
  },
  {
   "cell_type": "code",
   "execution_count": null,
   "metadata": {},
   "outputs": [],
   "source": []
  }
 ],
 "metadata": {
  "kernelspec": {
   "display_name": "Python 3",
   "language": "python",
   "name": "python3"
  },
  "language_info": {
   "codemirror_mode": {
    "name": "ipython",
    "version": 3
   },
   "file_extension": ".py",
   "mimetype": "text/x-python",
   "name": "python",
   "nbconvert_exporter": "python",
   "pygments_lexer": "ipython3",
   "version": "3.6.6"
  }
 },
 "nbformat": 4,
 "nbformat_minor": 2
}
