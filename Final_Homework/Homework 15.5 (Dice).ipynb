{
 "cells": [
  {
   "cell_type": "code",
   "execution_count": 47,
   "metadata": {},
   "outputs": [
    {
     "name": "stdout",
     "output_type": "stream",
     "text": [
      "The number of times the dice rolled double sixes is 2750\n",
      "The probability of rolling a double six is 0.0275\n"
     ]
    }
   ],
   "source": [
    "#Trevor Taylor\n",
    "#The purpose of this program is to simulate rolling two dices and seeing the probability of getting a double six\n",
    "import numpy as np\n",
    "import matplotlib.pyplot as plt\n",
    "\n",
    "#Number of times we roll the dice\n",
    "N = 100000\n",
    "\n",
    "#Counter to figure out how many times we roll double sixes\n",
    "count = 0\n",
    "for i in range(N):\n",
    "    #Generation of random numbers for dice a and b\n",
    "    a = np.random.randint(1,7,1)\n",
    "    b = np.random.randint(1,7,1)\n",
    "    #Iteration by 1 for every double six\n",
    "    if a * b == 6 ** 2:\n",
    "        count += 1 \n",
    "        \n",
    "#Commands to create graph\n",
    "print('The number of times the dice rolled double sixes is', count)\n",
    "print('The probability of rolling a double six is', count/N)\n",
    "\n",
    "#The ideal value is 1/36 and the program approches that ideal value"
   ]
  },
  {
   "cell_type": "code",
   "execution_count": 46,
   "metadata": {},
   "outputs": [
    {
     "data": {
      "image/png": "[encoded data removed]",
      "text/plain": [
       "<Figure size 432x288 with 1 Axes>"
      ]
     },
     "metadata": {},
     "output_type": "display_data"
    },
    {
     "data": {
      "image/png": "[encoded data removed]",
      "text/plain": [
       "<Figure size 432x288 with 1 Axes>"
      ]
     },
     "metadata": {},
     "output_type": "display_data"
    }
   ],
   "source": [
    "#Trevor Taylor\n",
    "#The purpose of the program is to generate random numbers between -5 and 5\n",
    "\n",
    "import numpy as np\n",
    "import matplotlib.pyplot as plt\n",
    "\n",
    "#Defining Constants\n",
    "#In finding the constants I was luckly because randomly entering numbers \n",
    "#And modifiying the by steps of 1 was able to give me the correct answer\n",
    "N = 99\n",
    "a = 3125\n",
    "c = 19*17\n",
    "m = 11\n",
    "x = 1\n",
    "\n",
    "#Empty array for results\n",
    "results = []\n",
    "\n",
    "#For loop to fill array\n",
    "for i in range(N):\n",
    "    x = (a*x+c)%m\n",
    "    results.append(round(x-5))\n",
    "    \n",
    "plt.plot(results,'o')\n",
    "plt.show()\n",
    "\n",
    "plt.hist(results)\n",
    "plt.show()\n",
    "\n",
    "#print(results)\n",
    "#Note that while the histogram says there are twice as many values of 5 this is not that case since when looking at\n",
    "#the values when printed out it is clear that this is not the case\n",
    "#Since the histogram shows that each value between -5 and 5 has an equal chance of appearing\n",
    "#We can conclude that the program works"
   ]
  },
  {
   "cell_type": "code",
   "execution_count": null,
   "metadata": {},
   "outputs": [],
   "source": []
  },
  {
   "cell_type": "code",
   "execution_count": null,
   "metadata": {},
   "outputs": [],
   "source": []
  },
  {
   "cell_type": "code",
   "execution_count": null,
   "metadata": {},
   "outputs": [],
   "source": []
  }
 ],
 "metadata": {
  "kernelspec": {
   "display_name": "Python 3",
   "language": "python",
   "name": "python3"
  },
  "language_info": {
   "codemirror_mode": {
    "name": "ipython",
    "version": 3
   },
   "file_extension": ".py",
   "mimetype": "text/x-python",
   "name": "python",
   "nbconvert_exporter": "python",
   "pygments_lexer": "ipython3",
   "version": "3.6.6"
  }
 },
 "nbformat": 4,
 "nbformat_minor": 2
}
