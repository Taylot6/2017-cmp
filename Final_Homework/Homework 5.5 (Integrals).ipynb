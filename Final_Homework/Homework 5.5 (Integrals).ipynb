{
 "cells": [
  {
   "cell_type": "code",
   "execution_count": 6,
   "metadata": {},
   "outputs": [],
   "source": [
    "#Trevor Taylor\n",
    "#The purpose of this program is to calculate definete integrals using the Rectangle rule, Trapezoid rule, and Simpson's rule\n",
    "\n",
    "#Importing numpy for exp function and for linspace\n",
    "import numpy as np\n",
    "from math import pi\n",
    "from numba import jit\n",
    "\n",
    "#This code uses the rectangle rule to calculate an integral\n",
    "def rectangle(start,end,parts):\n",
    "    f = lambda x: np.exp(-x**2)  #Can be any function\n",
    "    \n",
    "    deltax = (end - start) / parts\n",
    "    resultx = np.linspace(start, end, parts + 1)\n",
    "    resulty = f(resultx)\n",
    "    \n",
    "    area = np.empty([parts],float) #Empty array to hold values for area\n",
    "    \n",
    "    #For the rectangle rule we simply multiply the height of the rectangle by the division size\n",
    "    #For this code we calculate the height of the left size of the division\n",
    "    for i in range(parts):\n",
    "        area[i] = resulty[i] * deltax \n",
    "        \n",
    "    return(sum(area))\n",
    "\n",
    "#This code uses the trapezoid rule to calculate an integral\n",
    "def trapezoid(start,end,parts):\n",
    "    f = lambda x: np.exp(-x**2)  #Can be any function\n",
    "    \n",
    "    deltax = (end - start) / parts\n",
    "    resultx = np.linspace(start, end, parts+1)\n",
    "    resulty = f(resultx)\n",
    "    \n",
    "    area = np.empty([parts],float) #Empty array to hold values for area\n",
    "    \n",
    "    #For the trapezoid rule we find the height of the function at the left and right endpoints of the divison\n",
    "    #And take the adverage of the two\n",
    "    for i in range(parts):\n",
    "        area[i] = (resulty[i] + resulty[i+1]) * deltax/2\n",
    "        \n",
    "    return(sum(area))\n",
    "\n",
    "#This code uses the simpson rule to calculate an integral\n",
    "def simpson(start,end,parts):\n",
    "    f = lambda x: np.exp(-x**2)  #Can be any function\n",
    "    \n",
    "    deltax = (end - start) / parts\n",
    "    resultx = np.linspace(start, end, parts + 1)\n",
    "    resulty = f(resultx)\n",
    "    \n",
    "    area = np.empty([parts],float) #Empty array to hold values for area\n",
    "    \n",
    "    #Simpson's rule uses a quadratic approximation to find the definete integral\n",
    "    #Using the coefficents 1/3 for the beginning and end\n",
    "    #2/3 for the evens\n",
    "    #And 4/3 for the odds\n",
    "    for i in range(parts):\n",
    "        if i == 0 or i == parts:\n",
    "            area[i] = 1/3 * resulty[i] * deltax\n",
    "        elif i % 2 == 0:\n",
    "            area[i] = 2/3 * resulty[i] * deltax\n",
    "        elif i % 2 != 0:\n",
    "            area[i] = 4/3 * resulty[i] * deltax\n",
    "        \n",
    "    return(sum(area))\n",
    "\n",
    "#For the simpson rule the amount of points needed should be extremely low\n",
    "#Simpson's rule is a quadratic approximation so when approximating a quadratic function it should be very easy\n",
    "#There is some problem with the program since the approximation is not that good"
   ]
  },
  {
   "cell_type": "code",
   "execution_count": 9,
   "metadata": {},
   "outputs": [
    {
     "data": {
      "text/plain": [
       "0.746823448872291"
      ]
     },
     "execution_count": 9,
     "metadata": {},
     "output_type": "execute_result"
    }
   ],
   "source": [
    "rectangle(.000001,1,1000000)"
   ]
  },
  {
   "cell_type": "code",
   "execution_count": 10,
   "metadata": {},
   "outputs": [
    {
     "data": {
      "text/plain": [
       "0.7468231328123371"
      ]
     },
     "execution_count": 10,
     "metadata": {},
     "output_type": "execute_result"
    }
   ],
   "source": [
    "trapezoid(.000001,1,1000000)"
   ]
  },
  {
   "cell_type": "code",
   "execution_count": 11,
   "metadata": {},
   "outputs": [
    {
     "data": {
      "text/plain": [
       "0.7468229064476183"
      ]
     },
     "execution_count": 11,
     "metadata": {},
     "output_type": "execute_result"
    }
   ],
   "source": [
    "simpson(.0000000001,1,100000)"
   ]
  },
  {
   "cell_type": "code",
   "execution_count": null,
   "metadata": {},
   "outputs": [],
   "source": []
  },
  {
   "cell_type": "code",
   "execution_count": null,
   "metadata": {},
   "outputs": [],
   "source": []
  },
  {
   "cell_type": "code",
   "execution_count": null,
   "metadata": {},
   "outputs": [],
   "source": []
  }
 ],
 "metadata": {
  "kernelspec": {
   "display_name": "Python 3",
   "language": "python",
   "name": "python3"
  },
  "language_info": {
   "codemirror_mode": {
    "name": "ipython",
    "version": 3
   },
   "file_extension": ".py",
   "mimetype": "text/x-python",
   "name": "python",
   "nbconvert_exporter": "python",
   "pygments_lexer": "ipython3",
   "version": "3.6.6"
  }
 },
 "nbformat": 4,
 "nbformat_minor": 2
}
