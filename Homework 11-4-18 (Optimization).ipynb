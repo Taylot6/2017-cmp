{
 "cells": [
  {
   "cell_type": "code",
   "execution_count": 1,
   "metadata": {},
   "outputs": [],
   "source": [
    "#Trevor Taylor\n",
    "\n",
    "import numpy as np\n",
    "import matplotlib.pyplot as plt\n",
    "\n",
    "#number of times we will calculate random values\n",
    "\n",
    "N = 1000000\n",
    "\n",
    "#Function\n",
    "\n",
    "def f(x,y):\n",
    "    return 1/2 * x ** 2 + 1/4 * y ** 2\n",
    "\n",
    "#Empty array to store results\n",
    "\n",
    "values = []\n",
    "\n",
    "#For loop to give random values of x and y to calculate z\n",
    "\n",
    "for i in range(N):\n",
    "    x = np.random.random()\n",
    "    y = np.random.random()\n",
    "    z = f(x,y)\n",
    "    values.append(z)\n",
    "    \n",
    "    #I was originally trying this type of appending to be able to show the x and y values that correlated to the z\n",
    "    #However I am not sure if the min function works correctly with this scheme\n",
    "    #values.append(('x=',x,'y=',y,'f=',z))"
   ]
  },
  {
   "cell_type": "code",
   "execution_count": 2,
   "metadata": {},
   "outputs": [
    {
     "name": "stdout",
     "output_type": "stream",
     "text": [
      "1.308196361580193e-06\n"
     ]
    }
   ],
   "source": [
    "#This part of the program takes the array and picks out the smallest value\n",
    "\n",
    "print(min(values))"
   ]
  },
  {
   "cell_type": "code",
   "execution_count": 3,
   "metadata": {},
   "outputs": [],
   "source": [
    "#Trevor Taylor\n",
    "\n",
    "#Function\n",
    "\n",
    "def f(x,y):\n",
    "    return 1/2 * x ** 2 + 1/4 * y ** 2\n",
    "\n",
    "#Gradient function calculation\n",
    "\n",
    "def grad(f,x,y,dx=.001,dy=.001):\n",
    "    return (f(x+dx,0)-f(x,0))/dx + (f(0,y+dy)-f(0,y))/dy\n",
    "\n",
    "#Minimize function\n",
    "\n",
    "def minimize(f, x0, y0, N=1000):\n",
    "    \n",
    "    #Starting conditions\n",
    "    \n",
    "    y_now = y0\n",
    "    x_now = x0\n",
    "    converged = False\n",
    "    x_prev = None\n",
    "    y_prev = None\n",
    "    \n",
    "    for i in range(N):\n",
    "        \n",
    "        #Variable step calcualtion\n",
    "        \n",
    "        if x_prev == None and y_prev == None:\n",
    "            dx = .0001\n",
    "            dy = .0001\n",
    "        else:\n",
    "            dfy = dfx = (grad(f,x_now,y_now)-grad(f,x_prev,y_now))\n",
    "            dx = (x_now - x_prev)/dfx\n",
    "            dy = (y_now - y_prev)/dfy\n",
    "            \n",
    "        x_next = x_now - grad(f,x_now,y_now)*dx\n",
    "        y_next = y_now - grad(f,x_now,y_now)*dy\n",
    "\n",
    "        #Check to see if the calcualation should end\n",
    "        \n",
    "        if f(x_next,y_next) < f(x_now,y_now):\n",
    "            x_prev = x_now\n",
    "            x_now = x_next\n",
    "            y_prev = y_now\n",
    "            y_now = y_next\n",
    "                \n",
    "        else:\n",
    "            converged = True\n",
    "            break\n",
    "    return converged, x_now, y_now, f(x_now,y_now)"
   ]
  },
  {
   "cell_type": "code",
   "execution_count": 4,
   "metadata": {},
   "outputs": [
    {
     "name": "stdout",
     "output_type": "stream",
     "text": [
      "(True, 0.0011214675160761845, 0.0011214675160761845, 9.432670422105654e-07)\n"
     ]
    }
   ],
   "source": [
    "import numpy as np\n",
    "\n",
    "r = np.random.random()\n",
    "print(minimize(f,r,r,N=20))"
   ]
  },
  {
   "cell_type": "code",
   "execution_count": 5,
   "metadata": {},
   "outputs": [],
   "source": [
    "#Trevor Taylor\n",
    " \n",
    "def f(x,y):\n",
    "    return 1/2 * x ** 2 + 1/3 * y ** 2 - x*y/4\n",
    "\n",
    "def grad(f,x,y,dx=.001,dy=.001):\n",
    "    return (f(x+dx,0)-f(x,0))/dx + (f(0,y+dy)-f(0,y))/dy\n",
    "\n",
    "def minimize(f, x0, y0, N=1000):\n",
    "    \n",
    "    y_now = y0\n",
    "    x_now = x0\n",
    "    converged = False\n",
    "    x_prev = None\n",
    "    y_prev = None\n",
    "    \n",
    "    for i in range(N):\n",
    "        if x_prev == None and y_prev == None:\n",
    "            dx = .001\n",
    "            dy = .001\n",
    "        else:\n",
    "            dfy = dfx = (grad(f,x_now,y_now)-grad(f,x_prev,y_now))\n",
    "            dx = (x_now - x_prev)/dfx\n",
    "            dy = (y_now - y_prev)/dfy\n",
    "            \n",
    "        \n",
    "        x_next = x_now - grad(f,x_now,y_now)*dx\n",
    "        y_next = y_now - grad(f,x_now,y_now)*dy\n",
    "\n",
    "        if f(x_next,y_next) < f(x_now,y_now):\n",
    "            x_prev = x_now\n",
    "            x_now = x_next\n",
    "            y_prev = y_now\n",
    "            y_now = y_next\n",
    "                \n",
    "        else:\n",
    "            converged = True\n",
    "            break\n",
    "    return converged, x_now, y_now, f(x_now,y_now)"
   ]
  },
  {
   "cell_type": "code",
   "execution_count": 6,
   "metadata": {},
   "outputs": [
    {
     "name": "stdout",
     "output_type": "stream",
     "text": [
      "(True, 0.0019583679007027874, 0.0019583679007027874, 2.2372028201267746e-06)\n"
     ]
    }
   ],
   "source": [
    "r = np.random.random()\n",
    "print(minimize(f,r,r,N=20))"
   ]
  },
  {
   "cell_type": "code",
   "execution_count": 7,
   "metadata": {},
   "outputs": [],
   "source": [
    "from scipy.optimize import minimize\n",
    "\n",
    "#Function\n",
    "\n",
    "def f2(x,y):\n",
    "    return 1/2 * x ** 2 + 1/3 * y ** 2 - x*y/4\n",
    "\n",
    "z = []\n",
    "\n",
    "#Random generation of values and the putting them through Scipy minimiztion\n",
    "\n",
    "def random_search2(N):\n",
    "    x_min, x_max = -4, 4\n",
    "    y_min, y_max = -4, 4                   \n",
    "    #minf = f2([x_min,y_min])\n",
    "    #[x0, y0] = init(x_min, x_max, y_min, y_max)\n",
    "    for i in range(N):\n",
    "        x0 = 8 * np.random.random() - 4\n",
    "        y0 = 8 * np.random.random() - 4\n",
    "        res = minimize(f2, x0, y0, method='nelder-mead', tol=1e-4, options={'disp': False})\n",
    "        z.append(res.fun)\n",
    "        minf = min(z)\n",
    "           \n",
    "    return minf"
   ]
  },
  {
   "cell_type": "code",
   "execution_count": 8,
   "metadata": {},
   "outputs": [
    {
     "data": {
      "text/plain": [
       "1.6726453877153832e-06"
      ]
     },
     "execution_count": 8,
     "metadata": {},
     "output_type": "execute_result"
    }
   ],
   "source": [
    "random_search2(1000)"
   ]
  },
  {
   "cell_type": "code",
   "execution_count": null,
   "metadata": {},
   "outputs": [],
   "source": []
  },
  {
   "cell_type": "code",
   "execution_count": null,
   "metadata": {},
   "outputs": [],
   "source": []
  }
 ],
 "metadata": {
  "kernelspec": {
   "display_name": "Python 3",
   "language": "python",
   "name": "python3"
  },
  "language_info": {
   "codemirror_mode": {
    "name": "ipython",
    "version": 3
   },
   "file_extension": ".py",
   "mimetype": "text/x-python",
   "name": "python",
   "nbconvert_exporter": "python",
   "pygments_lexer": "ipython3",
   "version": "3.6.6"
  }
 },
 "nbformat": 4,
 "nbformat_minor": 2
}
