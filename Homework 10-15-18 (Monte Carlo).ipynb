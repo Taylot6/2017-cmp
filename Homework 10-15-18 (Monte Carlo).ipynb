{
 "cells": [
  {
   "cell_type": "code",
   "execution_count": 6,
   "metadata": {},
   "outputs": [],
   "source": [
    "#Trevor Taylor\n",
    "import matplotlib.pyplot as plt\n",
    "import numpy as np\n",
    "import random as random\n",
    "from scipy.integrate import quad\n",
    "from numba import jit\n",
    "\n",
    "#Functions\n",
    "@jit\n",
    "def f(x):\n",
    "    return np.sqrt(1-(x-1)**2)\n",
    "@jit\n",
    "def g(x):\n",
    "    return 2-np.sqrt(4-x**2)\n",
    "\n",
    "#MC using Mean Value Method\n",
    "@jit\n",
    "def MC(N):\n",
    "    I = 0\n",
    "    for i in range(N):\n",
    "        x = 1.6*random.random()\n",
    "        I += f(x) - g(x)\n",
    "        \n",
    "    return I/N*1.6"
   ]
  },
  {
   "cell_type": "code",
   "execution_count": 7,
   "metadata": {},
   "outputs": [
    {
     "name": "stdout",
     "output_type": "stream",
     "text": [
      "The value of the integral is 0.9616864900726828\n"
     ]
    }
   ],
   "source": [
    "print('The value of the integral is',MC(1000000))"
   ]
  },
  {
   "cell_type": "code",
   "execution_count": 8,
   "metadata": {},
   "outputs": [
    {
     "name": "stdout",
     "output_type": "stream",
     "text": [
      "The Standard Deviation for N value of 1 is 24.381409577738957\n",
      "The Standard Deviation for N value of 10 is 2.463384019707444\n",
      "The Standard Deviation for N value of 100 is 0.24749830198241454\n",
      "The Standard Deviation for N value of 1000 is 0.024720652593697708\n",
      "The Standard Deviation for N value of 10000 is 0.002471582127714983\n",
      "The Standard Deviation for N value of 100000 is 0.0002471078983494944\n",
      "The Standard Deviation for N value of 1000000 is 2.4713231389761476e-05\n",
      "The Standard Deviation for N value of 10000000 is 2.471396418926951e-06\n",
      "The Standard Deviation for N value of 100000000 is 2.4713743353076544e-07\n"
     ]
    }
   ],
   "source": [
    "import matplotlib.pyplot as plt\n",
    "import numpy as np\n",
    "import random as random\n",
    "from scipy.integrate import quad\n",
    "from numba import jit\n",
    "\n",
    "#MC using Mean Value Method\n",
    "@jit\n",
    "def MC(N):\n",
    "    I = 0\n",
    "    for i in range(N):\n",
    "        x = 1.6*random.random()\n",
    "        I += f(x) - g(x)\n",
    "        \n",
    "    return I/N*1.6\n",
    "\n",
    "#Functions\n",
    "@jit\n",
    "def f(x):\n",
    "    return np.sqrt(1-(x-1)**2)\n",
    "@jit\n",
    "def g(x):\n",
    "    return 2-np.sqrt(4-x**2)\n",
    "\n",
    "#Deviation calculation\n",
    "@jit\n",
    "def deviation(N):\n",
    "    mean = 0\n",
    "    p = MC(N)/2\n",
    "    for i in range(100):\n",
    "        mean += np.sqrt((p*(1-p))/N)\n",
    "    ave = mean / 100\n",
    "    return (mean**2)/100 - ave**2\n",
    "\n",
    "print('The Standard Deviation for N value of 1 is', deviation(1))\n",
    "print('The Standard Deviation for N value of 10 is', deviation(10))\n",
    "print('The Standard Deviation for N value of 100 is', deviation(100))\n",
    "print('The Standard Deviation for N value of 1000 is', deviation(1000))\n",
    "print('The Standard Deviation for N value of 10000 is', deviation(10000))\n",
    "print('The Standard Deviation for N value of 100000 is', deviation(100000))\n",
    "print('The Standard Deviation for N value of 1000000 is', deviation(1000000))\n",
    "print('The Standard Deviation for N value of 10000000 is', deviation(10000000))\n",
    "print('The Standard Deviation for N value of 100000000 is', deviation(100000000))"
   ]
  },
  {
   "cell_type": "code",
   "execution_count": 9,
   "metadata": {},
   "outputs": [],
   "source": [
    "import matplotlib.pyplot as plt\n",
    "import numpy as np\n",
    "import random as random\n",
    "from scipy.integrate import quad\n",
    "from numba import jit\n",
    "\n",
    "#Functions\n",
    "@jit\n",
    "def h(x):\n",
    "    return 1/(np.exp(x)+1)\n",
    "\n",
    "@jit\n",
    "def w(x):\n",
    "    return 1/np.sqrt(x)\n",
    "\n",
    "#MC with importance sampling\n",
    "@jit\n",
    "def IMC(N):\n",
    "    I = 0\n",
    "    a = quad(w,0,1)[0]\n",
    "    for i in range(N):\n",
    "        x = random.random()\n",
    "        y = x**2\n",
    "        I += h(y) \n",
    "    I2 = (I * a) / N\n",
    "        \n",
    "    return I2"
   ]
  },
  {
   "cell_type": "code",
   "execution_count": 10,
   "metadata": {},
   "outputs": [
    {
     "name": "stdout",
     "output_type": "stream",
     "text": [
      "The value for the integral is 0.839035718689441\n"
     ]
    }
   ],
   "source": [
    "print('The value for the integral is', IMC(1000000))"
   ]
  }
 ],
 "metadata": {
  "kernelspec": {
   "display_name": "Python 3",
   "language": "python",
   "name": "python3"
  },
  "language_info": {
   "codemirror_mode": {
    "name": "ipython",
    "version": 3
   },
   "file_extension": ".py",
   "mimetype": "text/x-python",
   "name": "python",
   "nbconvert_exporter": "python",
   "pygments_lexer": "ipython3",
   "version": "3.7.0"
  }
 },
 "nbformat": 4,
 "nbformat_minor": 2
}
