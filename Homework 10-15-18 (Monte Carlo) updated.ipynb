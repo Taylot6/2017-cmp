{
 "cells": [
  {
   "cell_type": "code",
   "execution_count": 35,
   "metadata": {},
   "outputs": [],
   "source": [
    "#Trevor Taylor\n",
    "import matplotlib.pyplot as plt\n",
    "import numpy as np\n",
    "import random as random\n",
    "from scipy.integrate import quad\n",
    "from numba import jit\n",
    "\n",
    "#Functions\n",
    "@jit\n",
    "def f(x):\n",
    "    return np.sqrt(1-(x-1)**2)\n",
    "@jit\n",
    "def g(x):\n",
    "    return 2-np.sqrt(4-x**2)\n",
    "\n",
    "#MC using Mean Value Method\n",
    "@jit\n",
    "def MC(N):\n",
    "    I = 0\n",
    "    for i in range(N):\n",
    "        x = 1.6*random.random()\n",
    "        I += f(x) - g(x)\n",
    "        \n",
    "    return I/N*1.6"
   ]
  },
  {
   "cell_type": "code",
   "execution_count": 36,
   "metadata": {},
   "outputs": [
    {
     "name": "stdout",
     "output_type": "stream",
     "text": [
      "The value of the integral is 0.9616320237744924\n"
     ]
    }
   ],
   "source": [
    "print('The value of the integral is',MC(1000000))"
   ]
  },
  {
   "cell_type": "code",
   "execution_count": 37,
   "metadata": {},
   "outputs": [
    {
     "name": "stdout",
     "output_type": "stream",
     "text": [
      "The Standard Deviation for N value of 1 is 22.136231685537812\n",
      "The Standard Deviation for N value of 10 is 2.4198810805433792\n",
      "The Standard Deviation for N value of 100 is 0.24519582648472454\n",
      "The Standard Deviation for N value of 1000 is 0.024731540894875913\n",
      "The Standard Deviation for N value of 10000 is 0.002471077470064923\n",
      "The Standard Deviation for N value of 100000 is 0.0002471119065234073\n",
      "The Standard Deviation for N value of 1000000 is 2.4713980117234428e-05\n",
      "The Standard Deviation for N value of 10000000 is 2.471364983968619e-06\n",
      "The Standard Deviation for N value of 100000000 is 2.471387995189518e-07\n"
     ]
    }
   ],
   "source": [
    "import matplotlib.pyplot as plt\n",
    "import numpy as np\n",
    "import random as random\n",
    "from scipy.integrate import quad\n",
    "from numba import jit\n",
    "\n",
    "#MC using Mean Value Method\n",
    "@jit\n",
    "def MC(N):\n",
    "    I = 0\n",
    "    for i in range(N):\n",
    "        x = 1.6*random.random()\n",
    "        I += f(x) - g(x)\n",
    "        \n",
    "    return I/N*1.6\n",
    "\n",
    "#Functions\n",
    "@jit\n",
    "def f(x):\n",
    "    return np.sqrt(1-(x-1)**2)\n",
    "@jit\n",
    "def g(x):\n",
    "    return 2-np.sqrt(4-x**2)\n",
    "\n",
    "#Deviation calculation\n",
    "@jit\n",
    "def deviation(N):\n",
    "    mean = 0\n",
    "    p = MC(N)/2\n",
    "    for i in range(100):\n",
    "        mean += np.sqrt((p*(1-p))/N)\n",
    "    ave = mean / 100\n",
    "    return (mean**2)/100 - ave**2\n",
    "\n",
    "print('The Standard Deviation for N value of 1 is', deviation(1))\n",
    "print('The Standard Deviation for N value of 10 is', deviation(10))\n",
    "print('The Standard Deviation for N value of 100 is', deviation(100))\n",
    "print('The Standard Deviation for N value of 1000 is', deviation(1000))\n",
    "print('The Standard Deviation for N value of 10000 is', deviation(10000))\n",
    "print('The Standard Deviation for N value of 100000 is', deviation(100000))\n",
    "print('The Standard Deviation for N value of 1000000 is', deviation(1000000))\n",
    "print('The Standard Deviation for N value of 10000000 is', deviation(10000000))\n",
    "print('The Standard Deviation for N value of 100000000 is', deviation(100000000))"
   ]
  },
  {
   "cell_type": "code",
   "execution_count": 189,
   "metadata": {},
   "outputs": [],
   "source": [
    "import matplotlib.pyplot as plt\n",
    "import numpy as np\n",
    "import random as random\n",
    "from scipy.integrate import quad\n",
    "from numba import jit\n",
    "\n",
    "#Functions\n",
    "\n",
    "@jit\n",
    "def f(x):\n",
    "    return (1/np.sqrt(x))/(np.exp(x)+1)\n",
    "\n",
    "@jit\n",
    "def w(x):\n",
    "    return 1/np.sqrt(x)\n",
    "\n",
    "#MC with importance sampling\n",
    "@jit\n",
    "def IMC(N):\n",
    "    I = 0\n",
    "    a = quad(w,0,1)[0]\n",
    "    for i in range(N):\n",
    "        x = random.random()\n",
    "        y = x**2\n",
    "        I += f(y)/w(y)\n",
    "    I2 = (I * a) / N\n",
    "        \n",
    "    return I2"
   ]
  },
  {
   "cell_type": "code",
   "execution_count": 190,
   "metadata": {},
   "outputs": [
    {
     "name": "stdout",
     "output_type": "stream",
     "text": [
      "The value for the integral is 0.8390754715151353\n"
     ]
    }
   ],
   "source": [
    "print('The value for the integral is', IMC(1000000))"
   ]
  },
  {
   "cell_type": "code",
   "execution_count": 9,
   "metadata": {},
   "outputs": [],
   "source": [
    "import matplotlib.pyplot as plt\n",
    "import numpy as np\n",
    "import random as random\n",
    "from scipy.integrate import quad\n",
    "from numba import jit\n",
    "\n",
    "#Functions\n",
    "@jit\n",
    "def f2(x):\n",
    "    return (1/x)/(np.exp(x)+1)\n",
    "\n",
    "@jit\n",
    "def w2(x):\n",
    "    return 1/x\n",
    "    \n",
    "#MC with importance sampling\n",
    "@jit\n",
    "def IMC2(N):\n",
    "    I = 0\n",
    "    a2 = quad(w2,0,1)[0]\n",
    "    for i in range(N):\n",
    "        x = random.random()\n",
    "        y = .25 * ((x**2)*(2*np.log(np.abs(x))-1))\n",
    "        I += f2(y)/w2(y)\n",
    "    I2 = (I * a2) / N\n",
    "        \n",
    "    return I2"
   ]
  },
  {
   "cell_type": "code",
   "execution_count": 10,
   "metadata": {},
   "outputs": [
    {
     "name": "stderr",
     "output_type": "stream",
     "text": [
      "/home/earnest/miniconda3/lib/python3.6/site-packages/scipy/integrate/quadpack.py:385: IntegrationWarning: The maximum number of subdivisions (50) has been achieved.\n",
      "  If increasing the limit yields no improvement it is advised to analyze \n",
      "  the integrand in order to determine the difficulties.  If the position of a \n",
      "  local difficulty can be determined (singularity, discontinuity) one will \n",
      "  probably gain from splitting up the interval and calling the integrator \n",
      "  on the subranges.  Perhaps a special-purpose integrator should be used.\n",
      "  warnings.warn(msg, IntegrationWarning)\n"
     ]
    },
    {
     "name": "stdout",
     "output_type": "stream",
     "text": [
      "The value for the integral is 22.280654100703682\n"
     ]
    }
   ],
   "source": [
    "print('The value for the integral is', IMC2(10000000))"
   ]
  },
  {
   "cell_type": "code",
   "execution_count": 180,
   "metadata": {},
   "outputs": [
    {
     "name": "stderr",
     "output_type": "stream",
     "text": [
      "/home/earnest/miniconda3/lib/python3.7/site-packages/scipy/integrate/quadpack.py:385: IntegrationWarning: The maximum number of subdivisions (50) has been achieved.\n",
      "  If increasing the limit yields no improvement it is advised to analyze \n",
      "  the integrand in order to determine the difficulties.  If the position of a \n",
      "  local difficulty can be determined (singularity, discontinuity) one will \n",
      "  probably gain from splitting up the interval and calling the integrator \n",
      "  on the subranges.  Perhaps a special-purpose integrator should be used.\n",
      "  warnings.warn(msg, IntegrationWarning)\n"
     ]
    },
    {
     "data": {
      "text/plain": [
       "(20.594976039904015, 4.675280186570248)"
      ]
     },
     "execution_count": 180,
     "metadata": {},
     "output_type": "execute_result"
    }
   ],
   "source": [
    "import scipy.integrate as sci\n",
    "f = lambda x: (x**-1)/(np.exp(x)+1)\n",
    "b = x**2\n",
    "sci.quad(f,0,1)"
   ]
  },
  {
   "cell_type": "code",
   "execution_count": null,
   "metadata": {},
   "outputs": [],
   "source": []
  },
  {
   "cell_type": "code",
   "execution_count": null,
   "metadata": {},
   "outputs": [],
   "source": []
  }
 ],
 "metadata": {
  "kernelspec": {
   "display_name": "Python 3",
   "language": "python",
   "name": "python3"
  },
  "language_info": {
   "codemirror_mode": {
    "name": "ipython",
    "version": 3
   },
   "file_extension": ".py",
   "mimetype": "text/x-python",
   "name": "python",
   "nbconvert_exporter": "python",
   "pygments_lexer": "ipython3",
   "version": "3.6.6"
  }
 },
 "nbformat": 4,
 "nbformat_minor": 2
}
