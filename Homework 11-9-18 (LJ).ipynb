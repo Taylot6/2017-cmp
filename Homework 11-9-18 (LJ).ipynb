{
 "cells": [
  {
   "cell_type": "code",
   "execution_count": 56,
   "metadata": {},
   "outputs": [],
   "source": [
    "#Trevor Taylor\n",
    "\n",
    "import numpy as np\n",
    "import matplotlib.pyplot as plt\n",
    "from numba import jit\n",
    "\n",
    "@jit\n",
    "def LJ(r):\n",
    "    r6 = r ** 6\n",
    "    r12 = r ** 12\n",
    "    return 4*(1/r12 - 1/r6)\n",
    "\n",
    "@jit\n",
    "def dis(x1,x2,y1,y2):\n",
    "    return np.sqrt((x1-x2)**2 + ((y1-y2)**2))\n",
    "\n",
    "values = []\n",
    "\n",
    "@jit\n",
    "def minimize(N):\n",
    "    for i in range(N):\n",
    "        x1 = 5 * np.random.random()\n",
    "        x2 = 5 * np.random.random()\n",
    "        x3 = 5 * np.random.random()\n",
    "        y1 = 5 * np.random.random()\n",
    "        y2 = 5 * np.random.random()\n",
    "        y3 = 5 * np.random.random()\n",
    "        \n",
    "        r1 = dis(x1,x2,y1,y2)\n",
    "        r2 = dis(x1,x3,y1,y3)\n",
    "        r3 = dis(x2,x3,y2,y3)\n",
    "        \n",
    "        E1 = LJ(r1)\n",
    "        E2 = LJ(r2)\n",
    "        E3 = LJ(r3)\n",
    "        \n",
    "        Et = E1 + E2 + E3\n",
    "        \n",
    "        values.append(Et)\n",
    "    return values"
   ]
  },
  {
   "cell_type": "code",
   "execution_count": 57,
   "metadata": {},
   "outputs": [
    {
     "data": {
      "text/plain": [
       "-2.9034793925734457"
      ]
     },
     "execution_count": 57,
     "metadata": {},
     "output_type": "execute_result"
    }
   ],
   "source": [
    "min(minimize(100000))"
   ]
  },
  {
   "cell_type": "code",
   "execution_count": 81,
   "metadata": {},
   "outputs": [],
   "source": [
    "from scipy.optimize import minimize\n",
    "import numpy as np\n",
    "from numba import jit\n",
    "import time\n",
    "\n",
    "time1 = time.time()\n",
    "\n",
    "@jit\n",
    "def init_pos(N, L=3):\n",
    "    return L*np.random.random_sample((N*3,))\n",
    "\n",
    "@jit\n",
    "def total_energy(positions):\n",
    "   \n",
    "    E = 0\n",
    "    N_atom = int(len(positions)/3)\n",
    "\n",
    "    for i in range(N_atom-1):\n",
    "        for j in range(i+1, N_atom):\n",
    "            pos1 = positions[i*3:(i+1)*3]\n",
    "            pos2 = positions[j*3:(j+1)*3]\n",
    "            \n",
    "            dist = np.linalg.norm(pos1-pos2)\n",
    "\n",
    "            E += LJ(dist)\n",
    "    return E\n",
    "\n",
    "x = []\n",
    "f = []\n",
    "N = 20\n",
    "N_atoms = 15\n",
    "\n",
    "for i in range(N):\n",
    "    pos = init_pos(N_atoms)\n",
    "    res = minimize(total_energy, pos, method='CG', tol=1e-4)\n",
    "    f.append(res.fun)\n",
    "    x.append(res.x)\n",
    "    \n",
    "time2 = time.time()\n",
    "t = time2 - time1"
   ]
  },
  {
   "cell_type": "code",
   "execution_count": 82,
   "metadata": {},
   "outputs": [
    {
     "data": {
      "text/plain": [
       "-52.32262726173876"
      ]
     },
     "execution_count": 82,
     "metadata": {},
     "output_type": "execute_result"
    }
   ],
   "source": [
    "min(f)"
   ]
  },
  {
   "cell_type": "code",
   "execution_count": 83,
   "metadata": {},
   "outputs": [
    {
     "name": "stdout",
     "output_type": "stream",
     "text": [
      "56.35629606246948\n"
     ]
    }
   ],
   "source": [
    "print(t)"
   ]
  },
  {
   "cell_type": "code",
   "execution_count": 66,
   "metadata": {},
   "outputs": [
    {
     "data": {
      "image/png": "[encoded data removed]",
      "text/plain": [
       "<Figure size 432x288 with 1 Axes>"
      ]
     },
     "metadata": {
      "needs_background": "light"
     },
     "output_type": "display_data"
    }
   ],
   "source": [
    "import matplotlib.pyplot as plt\n",
    "plt.title('LJ cluster:  '+ str(N)+ ' runs;  for N = ' + str(N_atoms)+' atoms')\n",
    "plt.hist(f,50)\n",
    "plt.show()"
   ]
  },
  {
   "cell_type": "code",
   "execution_count": null,
   "metadata": {},
   "outputs": [],
   "source": []
  },
  {
   "cell_type": "code",
   "execution_count": null,
   "metadata": {},
   "outputs": [],
   "source": []
  }
 ],
 "metadata": {
  "kernelspec": {
   "display_name": "Python 3",
   "language": "python",
   "name": "python3"
  },
  "language_info": {
   "codemirror_mode": {
    "name": "ipython",
    "version": 3
   },
   "file_extension": ".py",
   "mimetype": "text/x-python",
   "name": "python",
   "nbconvert_exporter": "python",
   "pygments_lexer": "ipython3",
   "version": "3.6.6"
  }
 },
 "nbformat": 4,
 "nbformat_minor": 2
}
