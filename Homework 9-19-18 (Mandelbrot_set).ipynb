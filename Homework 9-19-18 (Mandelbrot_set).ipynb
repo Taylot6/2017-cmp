{
 "cells": [
  {
   "cell_type": "code",
   "execution_count": null,
   "metadata": {},
   "outputs": [],
   "source": [
    "#Trevor Taylor\n",
    "#The purpose of this program is to create an image of the mandelbrot set\n",
    "#The colors determine on which iteration a number escapes and becomes greater than 2\n",
    "#Note that the values which have the highest n, in this case they are white, are those in the mandelbrot set\n",
    "\n",
    "import numpy as np\n",
    "import matplotlib.pyplot as plt\n",
    "from itertools import product\n",
    "\n",
    "#Defines the resolution of the image\n",
    "N = 1000\n",
    "\n",
    "Mandelbrot_set = np.empty([N,N])\n",
    "\n",
    "#Mandelbrot set calculation\n",
    "#Changes the values of 0 and 0j in z for different julia sets\n",
    "def Mandelbrot(c):\n",
    "    z = 0.0 + 0.0*1j\n",
    "    n = 0\n",
    "    while abs(z) <= 2 and n < 100:\n",
    "        z = z**2 + c\n",
    "        n += 1\n",
    "    return n\n",
    "        \n",
    "#Defines the range of each axis\n",
    "x = np.linspace(-2,2,N)\n",
    "y = np.linspace(-2,2,N)\n",
    "\n",
    "#Empty array for Mandelbrot set\n",
    "Mandelbrot_set = np.empty([N,N])\n",
    "\n",
    "#for loops over i and j\n",
    "for i , j in product(range(N) , range(N)):\n",
    "    Mandelbrot_set[i,j] = Mandelbrot(x[j] + y[i]*1j)\n",
    "    \n",
    "#settings to plot mandelbrot set\n",
    "plt.figure(figsize = (20 , 20))\n",
    "plt.axis('off')\n",
    "plt.magma()\n",
    "plt.imshow(Mandelbrot_set)\n",
    "plt.colorbar()\n",
    "plt.show()\n",
    "\n",
    "#timing feature to find out the adverage loop time\n",
    "%timeit(Mandelbrot_set)"
   ]
  },
  {
   "cell_type": "code",
   "execution_count": null,
   "metadata": {},
   "outputs": [],
   "source": []
  },
  {
   "cell_type": "code",
   "execution_count": null,
   "metadata": {},
   "outputs": [],
   "source": []
  },
  {
   "cell_type": "code",
   "execution_count": null,
   "metadata": {},
   "outputs": [],
   "source": []
  }
 ],
 "metadata": {
  "kernelspec": {
   "display_name": "Python 3",
   "language": "python",
   "name": "python3"
  },
  "language_info": {
   "codemirror_mode": {
    "name": "ipython",
    "version": 3
   },
   "file_extension": ".py",
   "mimetype": "text/x-python",
   "name": "python",
   "nbconvert_exporter": "python",
   "pygments_lexer": "ipython3",
   "version": "3.7.0"
  }
 },
 "nbformat": 4,
 "nbformat_minor": 2
}
