{
 "cells": [
  {
   "cell_type": "code",
   "execution_count": 182,
   "metadata": {},
   "outputs": [],
   "source": [
    "import numpy as np\n",
    "import scipy.optimize as sci\n",
    "import matplotlib.pyplot as plt\n",
    "import time"
   ]
  },
  {
   "cell_type": "code",
   "execution_count": 183,
   "metadata": {},
   "outputs": [],
   "source": [
    "def f(x):\n",
    "    return 1/2 * x[0] ** 2 + 1/4 * x[1] ** 2\n",
    "\n",
    "def g(x):\n",
    "    return x**6 + 1/4 * x**5 + x**4 + x**3 + 10 * x**2\n",
    "\n",
    "def h(x):\n",
    "    return x[0]**4 + 1/3 * x[0]**2 + x[0]**2 * x[1]**4 + 1/5 * x[1]**6\n",
    "\n",
    "def I(x):\n",
    "    return np.exp(x[0]*x[1]*2*x[2]+14)+ x[0]*x[1] + 1/17 * x[0]*x[2] + x[1]**4 + x[2]**4 * x[1] ** 4 + 14\n",
    "\n",
    "def Ackley(x):\n",
    "    return -20 * np.exp(-.2* np.sqrt(x[0]**2+x[1]**2)) - np.exp(.5 * (np.cos(2*np.pi*x[0]+np.cos(2*np.pi*x[1])))) + np.exp(1)+ 20\n",
    "\n",
    "def Beale(x):\n",
    "    return (1.5 - x[0]+ x[0] * x[1])**2 + (2.25- x[0]+x[0]*x[1]**2)**2 + (2.625 - x[0]+ x[0]*x[1]**3)**2\n",
    "\n",
    "def Himmelblau(x):\n",
    "    return (x[0]**2+x[1]-11)**2+(x[0]+x[1]**2-7)**2"
   ]
  },
  {
   "cell_type": "code",
   "execution_count": 184,
   "metadata": {},
   "outputs": [
    {
     "name": "stdout",
     "output_type": "stream",
     "text": [
      "('F:', 1.3733171929712115e-16, 'X:', array([-6.96658289e-10, -2.34170069e-08]), 'iterations:', 4)\n",
      "('F:', 3.0831165754638264e-17, 'X:', array([-5.79112136e-09, -7.50003265e-09]), 'iterations:', 4)\n"
     ]
    }
   ],
   "source": [
    "BFGS = []\n",
    "CG = []\n",
    "\n",
    "imax = 1000\n",
    "\n",
    "for i in range(imax):\n",
    "    x = [10 * np.random.random(),10 * np.random.random()]\n",
    "    T = sci.minimize(f,x,method='BFGS',tol=.1)\n",
    "    V = sci.minimize(f,x,method='CG',tol=.1)\n",
    "    BFGS.append(('F:',T.fun,'X:',T.x,'iterations:', T.nit))\n",
    "    CG.append(('F:',V.fun,'X:',V.x,'iterations:', V.nit))\n",
    "    \n",
    "print(min(BFGS))\n",
    "print(min(CG))"
   ]
  },
  {
   "cell_type": "code",
   "execution_count": 185,
   "metadata": {},
   "outputs": [],
   "source": [
    "def f(x,y):\n",
    "    return 1/2 * x ** 2 + 1/4 * y ** 2\n",
    "    \n",
    "def grad(f,x,y,dx=.01,dy=.01):\n",
    "    return (f(x+dx,0)-f(x,0))/dx + (f(0,y+dy)-f(0,y))/dy\n",
    "\n",
    "def minimize(f, x0, y0, N=1000):\n",
    "    \n",
    "    y_now = y0\n",
    "    x_now = x0\n",
    "    converged = False\n",
    "    x_prev = None\n",
    "    y_prev = None\n",
    "    x_hist = []\n",
    "    y_hist = []\n",
    "    x_hist.append(x0)\n",
    "    y_hist.append(y0)\n",
    "    \n",
    "    for i in range(N):\n",
    "        if x_prev == None and y_prev == None:\n",
    "            dx = .001\n",
    "            dy = .001\n",
    "        else:\n",
    "            dfy = dfx = (grad(f,x_now,y_now)-grad(f,x_prev,y_now))\n",
    "            dx = (x_now - x_prev)/dfx\n",
    "            dy = (y_now - y_prev)/dfy\n",
    "            \n",
    "        \n",
    "        x_next = x_now - grad(f,x_now,y_now)*dx\n",
    "        y_next = y_now - grad(f,x_now,y_now)*dy\n",
    "\n",
    "        if f(x_next,y_next) < f(x_now,y_now):\n",
    "            x_prev = x_now\n",
    "            x_now = x_next\n",
    "            y_prev = y_now\n",
    "            y_now = y_next\n",
    "            x_hist.append(x_now)\n",
    "            y_hist.append(y_now)\n",
    "                \n",
    "        else:\n",
    "            converged = True\n",
    "            break\n",
    "    return converged, x_now, y_now, f(x_now,y_now), i+1"
   ]
  },
  {
   "cell_type": "code",
   "execution_count": 186,
   "metadata": {},
   "outputs": [
    {
     "data": {
      "text/plain": [
       "(True, -0.3331133105468829, 0.666886689453117, 0.16666670297418656, 10)"
      ]
     },
     "execution_count": 186,
     "metadata": {},
     "output_type": "execute_result"
    }
   ],
   "source": [
    "minimize(f,1,2)"
   ]
  },
  {
   "cell_type": "code",
   "execution_count": 187,
   "metadata": {},
   "outputs": [
    {
     "name": "stdout",
     "output_type": "stream",
     "text": [
      "('F:', 1.7039512227944234e-07, 'X:', array([0.00070852, 0.04982282]), 'iterations:', 13)\n",
      "('F:', 8.114984516691265e-10, 'X:', array([4.66240017e-05, 2.75209433e-02]), 'iterations:', 6)\n"
     ]
    }
   ],
   "source": [
    "BFGS = []\n",
    "CG = []\n",
    "\n",
    "imax = 1000\n",
    "\n",
    "for i in range(imax):\n",
    "    x = [10 * np.random.random(),10 * np.random.random()]\n",
    "    T = sci.minimize(h,x,method='BFGS',tol=.01)\n",
    "    V = sci.minimize(h,x,method='CG',tol=.01)\n",
    "    BFGS.append(('F:',T.fun,'X:',T.x,'iterations:', T.nit))\n",
    "    CG.append(('F:',V.fun,'X:',V.x,'iterations:', V.nit))\n",
    "    \n",
    "print(min(BFGS))\n",
    "print(min(CG))"
   ]
  },
  {
   "cell_type": "code",
   "execution_count": 188,
   "metadata": {},
   "outputs": [
    {
     "name": "stdout",
     "output_type": "stream",
     "text": [
      "('F:', 3.586751521617473e-10, 'X:', array([ 3.58442998, -1.84813079]), 'iterations:', 10)\n",
      "('F:', 1.967958195802331e-11, 'X:', array([ 3.58442777, -1.84812593]), 'iterations:', 5)\n"
     ]
    }
   ],
   "source": [
    "BFGS = []\n",
    "CG = []\n",
    "\n",
    "imax = 1000\n",
    "\n",
    "for i in range(imax):\n",
    "    x = [10 * np.random.random(),10 * np.random.random()]\n",
    "    T = sci.minimize(Himmelblau,x,method='BFGS',tol=.1)\n",
    "    V = sci.minimize(Himmelblau,x,method='CG',tol=.1)\n",
    "    BFGS.append(('F:',T.fun,'X:',T.x,'iterations:', T.nit))\n",
    "    CG.append(('F:',V.fun,'X:',V.x,'iterations:', V.nit))\n",
    "    \n",
    "print(min(BFGS))\n",
    "print(min(CG))"
   ]
  },
  {
   "cell_type": "code",
   "execution_count": 189,
   "metadata": {},
   "outputs": [
    {
     "name": "stdout",
     "output_type": "stream",
     "text": [
      "('F:', 1.408119359060212, 'X:', array([-2.10622614e-09,  3.85471064e-10]), 'iterations:', 25)\n",
      "('F:', 1.408119360535796, 'X:', array([ 8.34586608e-11, -6.08419731e-10]), 'iterations:', 20)\n"
     ]
    }
   ],
   "source": [
    "BFGS = []\n",
    "CG = []\n",
    "\n",
    "imax = 1000\n",
    "\n",
    "for i in range(imax):\n",
    "    x = [10 * np.random.random(),10 * np.random.random()]\n",
    "    T = sci.minimize(Ackley,x,method='BFGS',tol=.1)\n",
    "    V = sci.minimize(Ackley,x,method='CG',tol=.1)\n",
    "    BFGS.append(('F:',T.fun,'X:',T.x,'iterations:', T.nit))\n",
    "    CG.append(('F:',V.fun,'X:',V.x,'iterations:', V.nit))\n",
    "    \n",
    "print(min(BFGS))\n",
    "print(min(CG))"
   ]
  },
  {
   "cell_type": "code",
   "execution_count": 190,
   "metadata": {},
   "outputs": [
    {
     "name": "stdout",
     "output_type": "stream",
     "text": [
      "('F:', 7.76852062687689e-07, 'X:', array([2.99790007, 0.4994239 ]), 'iterations:', 24)\n",
      "('F:', 4.337424382750242e-08, 'X:', array([2.99948698, 0.49988005]), 'iterations:', 14)\n"
     ]
    }
   ],
   "source": [
    "BFGS = []\n",
    "CG = []\n",
    "\n",
    "imax = 1000\n",
    "\n",
    "for i in range(imax):\n",
    "    x = [10 * np.random.random(),10 * np.random.random()]\n",
    "    T = sci.minimize(Beale,x,method='BFGS',tol=.1)\n",
    "    V = sci.minimize(Beale,x,method='CG',tol=.1)\n",
    "    BFGS.append(('F:',T.fun,'X:',T.x,'iterations:', T.nit))\n",
    "    CG.append(('F:',V.fun,'X:',V.x,'iterations:', V.nit))\n",
    "    \n",
    "print(min(BFGS))\n",
    "print(min(CG))"
   ]
  },
  {
   "cell_type": "code",
   "execution_count": 191,
   "metadata": {},
   "outputs": [
    {
     "name": "stdout",
     "output_type": "stream",
     "text": [
      "0.004594529151916504\n",
      "0.005223117589950562\n"
     ]
    }
   ],
   "source": [
    "BFGStime = []\n",
    "CGtime = []\n",
    "\n",
    "imax = 1000\n",
    "\n",
    "for i in range(imax):\n",
    "    t1 = time.time()\n",
    "    x = [10 * np.random.random(),10 * np.random.random()]\n",
    "    T = sci.minimize(Beale,x,method='BFGS',tol=.1)\n",
    "    t2 = time.time()\n",
    "    t = t2 - t1\n",
    "    BFGStime.append(t)\n",
    "    \n",
    "for i in range(imax):\n",
    "    t1 = time.time()\n",
    "    x = [10 * np.random.random(),10 * np.random.random()]\n",
    "    T = sci.minimize(Beale,x,method='BFGS',tol=.1)\n",
    "    t2 = time.time()\n",
    "    t = t2 - t1\n",
    "    CGtime.append(t)\n",
    "    \n",
    "print(np.average(BFGStime))\n",
    "print(np.average(CGtime))"
   ]
  },
  {
   "cell_type": "code",
   "execution_count": 192,
   "metadata": {},
   "outputs": [
    {
     "name": "stdout",
     "output_type": "stream",
     "text": [
      "0.0011432139873504639\n",
      "0.0011313140392303466\n"
     ]
    }
   ],
   "source": [
    "BFGStime = []\n",
    "CGtime = []\n",
    "\n",
    "imax = 1000\n",
    "\n",
    "for i in range(imax):\n",
    "    t1 = time.time()\n",
    "    x = [10 * np.random.random(),10 * np.random.random()]\n",
    "    T = sci.minimize(Himmelblau,x,method='BFGS',tol=.1)\n",
    "    t2 = time.time()\n",
    "    t = t2 - t1\n",
    "    BFGStime.append(t)\n",
    "    \n",
    "for i in range(imax):\n",
    "    t1 = time.time()\n",
    "    x = [10 * np.random.random(),10 * np.random.random()]\n",
    "    T = sci.minimize(Himmelblau,x,method='BFGS',tol=.1)\n",
    "    t2 = time.time()\n",
    "    t = t2 - t1\n",
    "    CGtime.append(t)\n",
    "    \n",
    "print(np.average(BFGStime))\n",
    "print(np.average(CGtime))"
   ]
  },
  {
   "cell_type": "code",
   "execution_count": null,
   "metadata": {},
   "outputs": [],
   "source": []
  },
  {
   "cell_type": "code",
   "execution_count": null,
   "metadata": {},
   "outputs": [],
   "source": []
  }
 ],
 "metadata": {
  "kernelspec": {
   "display_name": "Python 3",
   "language": "python",
   "name": "python3"
  },
  "language_info": {
   "codemirror_mode": {
    "name": "ipython",
    "version": 3
   },
   "file_extension": ".py",
   "mimetype": "text/x-python",
   "name": "python",
   "nbconvert_exporter": "python",
   "pygments_lexer": "ipython3",
   "version": "3.6.6"
  }
 },
 "nbformat": 4,
 "nbformat_minor": 2
}
