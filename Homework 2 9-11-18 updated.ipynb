{
 "cells": [
  {
   "cell_type": "code",
   "execution_count": 45,
   "metadata": {},
   "outputs": [],
   "source": [
    "#Program is to calculate the Multiplicity of two interating Einstein solids, 1 and 2.\n",
    "#qt is the total energy of both of the solids combined\n",
    "\n",
    "#import numpy as np\n",
    "import matplotlib.pyplot as plt\n",
    "#for plotting the graph\n",
    "from math import log, exp\n",
    "#for log and exp funcitons\n",
    "\n",
    "def factorial(N):\n",
    "    if N == 0 or N == 1:\n",
    "        return 1\n",
    "    else:\n",
    "        total = 1\n",
    "        for i in range(2,N+1):\n",
    "            total *= i\n",
    "        return total\n",
    "    \n",
    "#Factorial function for Multiplicity calculations\n",
    "\n",
    "N1 = 3000\n",
    "N2 = 2000\n",
    "qt = 100\n",
    "\n",
    "#Values for number of osscilators for solids 1 and 2 and the total energy of the system\n",
    "    \n",
    "def M1(N1,q1):\n",
    "    return exp((log(factorial(int(q1) + int(N1) - 1))) - ((log(factorial(int(q1)))) + (log(factorial(int(N1)-1)))))\n",
    "\n",
    "def M2(N2,q1):\n",
    "    return exp((log(factorial(int(qt-q1) + int(N2) - 1))) - ((log(factorial(int(qt-q1)))) + (log(factorial(int(N2)-1)))))\n",
    "\n",
    "#Calcuations of M1 and M2. M2 is made dependant on q1 due to the fact that qt minus q1 is q2.\n",
    "#Return function is used to input M values into Omega sets\n",
    "\n",
    "def Plot_Multiplicity(N):\n",
    "\n",
    "    N_series = range(N+1)\n",
    "    #Omega1 = [] #Use if you wish to see the plot of M1\n",
    "    #Omega2 = [] #Use if you wish to see the plot of M2\n",
    "    Omega3 = []\n",
    "    \n",
    "    for q1 in N_series:\n",
    "        #Omega1.append(M1(N1,q1)) #Use if you wish to see the plot of M1\n",
    "        #Omega2.append(M2(N2,q1)) #Use if you wish to see the plot of M2\n",
    "        Mt = M1(N1,q1) * M2(N2,q1)\n",
    "        Omega3.append(Mt)\n",
    "        \n",
    "#By making both M1 and M2 dependant on q1, we can have q1 in the N_series work for both.\n",
    "#Omega3.append(M1(N1,q1)*(M2(N1,q1))) is used to multiply the multiplicites together to get a total multiplicity\n",
    "        \n",
    "    #plt.plot(N_series, Omega1) #Use if you wish to see the plot of M1\n",
    "    #plt.plot(N_series, Omega2) #Use if you wish to see the plot of M2\n",
    "    plt.plot(N_series, Omega3)\n",
    "    \n",
    "    plt.xlabel('Total Energy (q_t) ')\n",
    "    plt.ylabel('Multiplicity total (Omega 1 * Omega 2)')\n",
    "\n",
    "    plt.show()\n",
    "    \n",
    "#As N increses the multiplicity will be more localized. In this function it is localized at (N+1)/2"
   ]
  },
  {
   "cell_type": "code",
   "execution_count": 46,
   "metadata": {},
   "outputs": [
    {
     "data": {
      "image/png": "[encoded data removed]",
      "text/plain": [
       "<Figure size 432x288 with 1 Axes>"
      ]
     },
     "metadata": {},
     "output_type": "display_data"
    }
   ],
   "source": [
    "Plot_Multiplicity(qt)"
   ]
  },
  {
   "cell_type": "code",
   "execution_count": null,
   "metadata": {},
   "outputs": [],
   "source": []
  }
 ],
 "metadata": {
  "kernelspec": {
   "display_name": "Python 3",
   "language": "python",
   "name": "python3"
  },
  "language_info": {
   "codemirror_mode": {
    "name": "ipython",
    "version": 3
   },
   "file_extension": ".py",
   "mimetype": "text/x-python",
   "name": "python",
   "nbconvert_exporter": "python",
   "pygments_lexer": "ipython3",
   "version": "3.7.0"
  }
 },
 "nbformat": 4,
 "nbformat_minor": 2
}
